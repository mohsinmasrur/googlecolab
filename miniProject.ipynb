{
  "nbformat": 4,
  "nbformat_minor": 0,
  "metadata": {
    "colab": {
      "name": "miniProject.ipynb",
      "provenance": [],
      "collapsed_sections": [],
      "authorship_tag": "ABX9TyNV9GUdSNWR1IwixVcRgcfJ",
      "include_colab_link": true
    },
    "kernelspec": {
      "name": "python3",
      "display_name": "Python 3"
    }
  },
  "cells": [
    {
      "cell_type": "markdown",
      "metadata": {
        "id": "view-in-github",
        "colab_type": "text"
      },
      "source": [
        "<a href=\"https://colab.research.google.com/github/mohsinmasrur/googlecolab/blob/master/miniProject.ipynb\" target=\"_parent\"><img src=\"https://colab.research.google.com/assets/colab-badge.svg\" alt=\"Open In Colab\"/></a>"
      ]
    },
    {
      "cell_type": "code",
      "metadata": {
        "colab": {
          "base_uri": "https://localhost:8080/"
        },
        "id": "M-YqgSFuM9Mn",
        "outputId": "7077b36b-6a2a-447b-89fd-989c73812ad6"
      },
      "source": [
        "'''Ask the user for a number. Depending on whether the number is even or odd, print out an\n",
        "appropriate message to the user'''\n",
        "number=int(input(\"Enter a number please: \"))\n",
        "if number%2==0:\n",
        "  print(\"It's an even number.\")\n",
        "\n",
        "else:\n",
        "  print(\"It's an odd number\")\n"
      ],
      "execution_count": 8,
      "outputs": [
        {
          "output_type": "stream",
          "text": [
            "Enter a number please: 66\n",
            "It's an even number.\n"
          ],
          "name": "stdout"
        }
      ]
    },
    {
      "cell_type": "code",
      "metadata": {
        "colab": {
          "base_uri": "https://localhost:8080/"
        },
        "id": "JkArtTsINOE_",
        "outputId": "adcd1aab-de8d-4e5b-cf86-b1e1139a1434"
      },
      "source": [
        "'''Ask the user for a number. Depending on whether the number is even or odd, print out an\n",
        "appropriate message to the user. • If the number is a multiple of 4, print out a different message.'''\n",
        "number=int(input(\"Enter a number please: \"))\n",
        "if number%2==0:\n",
        "  if number%4==0:\n",
        "    print(\"It's an even number and multiple of 4\")\n",
        "  else:\n",
        "    print(\"Even but not multiple of 4\")\n",
        "\n",
        "else:\n",
        "  print(\"It's an odd number\")\n"
      ],
      "execution_count": 10,
      "outputs": [
        {
          "output_type": "stream",
          "text": [
            "Enter a number please: 14\n",
            "Even but not mult\n"
          ],
          "name": "stdout"
        }
      ]
    },
    {
      "cell_type": "code",
      "metadata": {
        "colab": {
          "base_uri": "https://localhost:8080/"
        },
        "id": "bLZTDiMnO5QV",
        "outputId": "484f45ee-d9b3-4faf-8980-eca0fbf336f8"
      },
      "source": [
        "'''Ask the user for two numbers: one number to check (call it num) and one number to divide\n",
        "by (check). If check divides evenly into num, tell that to the user. If not, print a different\n",
        "appropriate message.'''\n",
        "\n",
        "n1=int(input(\"Insert a number: \"))\n",
        "n2=int(input(\"Insert a second number: \"))\n",
        "if n2%n1==0:\n",
        "  print(\"First number can be evenly divide in second number\")\n",
        "else:\n",
        "  print(\"Cannot evenly divide\")"
      ],
      "execution_count": 14,
      "outputs": [
        {
          "output_type": "stream",
          "text": [
            "Insert a number: 2\n",
            "Insert a second number: 21\n",
            "Cannot\n"
          ],
          "name": "stdout"
        }
      ]
    },
    {
      "cell_type": "code",
      "metadata": {
        "colab": {
          "base_uri": "https://localhost:8080/"
        },
        "id": "-2I2srKWPMlA",
        "outputId": "73467b95-71f3-448f-9792-5e135edc7ed1"
      },
      "source": [
        "'''Write a custom function for finding whether the number is even or odd and call it in your\n",
        "main program code.'''\n",
        "\n",
        "def evenorodd(n):\n",
        "  if n%2==0:\n",
        "    print(\"It's an even number\")\n",
        "  else:\n",
        "    print(\"It is an odd number\")\n",
        "\n",
        "evenorodd(7)\n"
      ],
      "execution_count": 16,
      "outputs": [
        {
          "output_type": "stream",
          "text": [
            "It is an odd number\n"
          ],
          "name": "stdout"
        }
      ]
    },
    {
      "cell_type": "code",
      "metadata": {
        "id": "ez2DC69KQU7_"
      },
      "source": [
        ""
      ],
      "execution_count": null,
      "outputs": []
    }
  ]
}