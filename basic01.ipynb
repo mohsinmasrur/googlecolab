{
  "nbformat": 4,
  "nbformat_minor": 0,
  "metadata": {
    "colab": {
      "name": "basic01.ipynb",
      "provenance": [],
      "authorship_tag": "ABX9TyMzc8hiYTP6twzG6wa52duV",
      "include_colab_link": true
    },
    "kernelspec": {
      "name": "python3",
      "display_name": "Python 3"
    }
  },
  "cells": [
    {
      "cell_type": "markdown",
      "metadata": {
        "id": "view-in-github",
        "colab_type": "text"
      },
      "source": [
        "<a href=\"https://colab.research.google.com/github/mohsinmasrur/googlecolab/blob/master/basic01.ipynb\" target=\"_parent\"><img src=\"https://colab.research.google.com/assets/colab-badge.svg\" alt=\"Open In Colab\"/></a>"
      ]
    },
    {
      "cell_type": "code",
      "metadata": {
        "id": "gpf71LnOJCS3"
      },
      "source": [
        "lname='M'\n",
        "LASTNAME=\"masrur\"\n",
        "Last_name=\"Ace\"\n",
        "LastN=\"Gengis\"\n",
        "Lastname='Steve'\n",
        "Lastn2='BOB'\n",
        "\n"
      ],
      "execution_count": 3,
      "outputs": []
    },
    {
      "cell_type": "code",
      "metadata": {
        "colab": {
          "base_uri": "https://localhost:8080/"
        },
        "id": "ftt4EJPbJG03",
        "outputId": "c7fcf87b-e00e-4229-ddea-a309900a68a4"
      },
      "source": [
        "print(LASTNAME)"
      ],
      "execution_count": 5,
      "outputs": [
        {
          "output_type": "stream",
          "text": [
            "masrur\n"
          ],
          "name": "stdout"
        }
      ]
    },
    {
      "cell_type": "code",
      "metadata": {
        "id": "D1Fbd2m8X3s7"
      },
      "source": [
        "import math"
      ],
      "execution_count": 6,
      "outputs": []
    },
    {
      "cell_type": "code",
      "metadata": {
        "colab": {
          "base_uri": "https://localhost:8080/"
        },
        "id": "K54bVgyfYgwK",
        "outputId": "5f9431c2-c7ea-4b0f-a515-b8e15a552d74"
      },
      "source": [
        "math.pi"
      ],
      "execution_count": 7,
      "outputs": [
        {
          "output_type": "execute_result",
          "data": {
            "text/plain": [
              "3.141592653589793"
            ]
          },
          "metadata": {
            "tags": []
          },
          "execution_count": 7
        }
      ]
    },
    {
      "cell_type": "code",
      "metadata": {
        "id": "Jq24ZsGCYjzQ"
      },
      "source": [
        "list0=[\"It\", \"can\", \"hold\", \"anything\"]\n",
        "list1=[\"See\", \"Examples\"]\n",
        "list2=[\"String\", \"number\"]\n",
        "list3=[\"Hello\", 1]\n",
        "list4=[True, 1.0]\n",
        "list5=[False, \"Boolean\"]\n",
        "list6=[1,2,3,4]\n",
        "list7=[1.2,1.4,False]\n",
        "list8=[2,4]\n",
        "list9=[True, False]"
      ],
      "execution_count": 12,
      "outputs": []
    },
    {
      "cell_type": "markdown",
      "metadata": {
        "id": "sQMyzWt1jMOD"
      },
      "source": [
        "**DICTIONARIES**"
      ]
    },
    {
      "cell_type": "code",
      "metadata": {
        "id": "klbAJVkPjQ3w"
      },
      "source": [
        "#Dictionaries are key-value pairs\n",
        "mydict={'key1':'value1','key2':'value2'}"
      ],
      "execution_count": 14,
      "outputs": []
    },
    {
      "cell_type": "code",
      "metadata": {
        "colab": {
          "base_uri": "https://localhost:8080/"
        },
        "id": "fOrQOhEyjVyH",
        "outputId": "4b7e170c-36f9-4d63-a5f9-47426a59f62f"
      },
      "source": [
        "mydict"
      ],
      "execution_count": 15,
      "outputs": [
        {
          "output_type": "execute_result",
          "data": {
            "text/plain": [
              "{'key1': 'value1', 'key2': 'value2'}"
            ]
          },
          "metadata": {
            "tags": []
          },
          "execution_count": 15
        }
      ]
    },
    {
      "cell_type": "code",
      "metadata": {
        "id": "12VlcpK0jnNU"
      },
      "source": [
        "food={'rice':'regular','meat':'twice a week','coffee':'once a day'}\n",
        "people={'persone1':'Obama','person2':'Michelle'}\n",
        "sports={'pl1':'Lebron','pl2':'Messi','pl3':'Pele','pl4':'Serena','pl':'Jordan'}\n"
      ],
      "execution_count": 26,
      "outputs": []
    },
    {
      "cell_type": "code",
      "metadata": {
        "colab": {
          "base_uri": "https://localhost:8080/"
        },
        "id": "YWbzU1hBm6Xp",
        "outputId": "7dfbbde4-1a60-4463-b120-604b590fdcbd"
      },
      "source": [
        "food"
      ],
      "execution_count": 27,
      "outputs": [
        {
          "output_type": "execute_result",
          "data": {
            "text/plain": [
              "{'coffee': 'once a day', 'meat': 'twice a week', 'rice': 'regular'}"
            ]
          },
          "metadata": {
            "tags": []
          },
          "execution_count": 27
        }
      ]
    },
    {
      "cell_type": "code",
      "metadata": {
        "colab": {
          "base_uri": "https://localhost:8080/"
        },
        "id": "lHG-Evcrm7d2",
        "outputId": "020241a2-6804-4986-dd40-046869b84ce1"
      },
      "source": [
        "\n",
        "print(food)"
      ],
      "execution_count": 28,
      "outputs": [
        {
          "output_type": "stream",
          "text": [
            "{'rice': 'regular', 'meat': 'twice a week', 'coffee': 'once a day'}\n"
          ],
          "name": "stdout"
        }
      ]
    },
    {
      "cell_type": "code",
      "metadata": {
        "colab": {
          "base_uri": "https://localhost:8080/"
        },
        "id": "7fBIQVE-m8vr",
        "outputId": "a0af32a4-baa0-44ec-a741-968b6231a041"
      },
      "source": [
        "sports"
      ],
      "execution_count": 29,
      "outputs": [
        {
          "output_type": "execute_result",
          "data": {
            "text/plain": [
              "{'pl': 'Jordan',\n",
              " 'pl1': 'Lebron',\n",
              " 'pl2': 'Messi',\n",
              " 'pl3': 'Pele',\n",
              " 'pl4': 'Serena'}"
            ]
          },
          "metadata": {
            "tags": []
          },
          "execution_count": 29
        }
      ]
    },
    {
      "cell_type": "code",
      "metadata": {
        "colab": {
          "base_uri": "https://localhost:8080/"
        },
        "id": "70Bm217PnCOw",
        "outputId": "18c0f1ff-858f-4436-836c-fdd8d62e9956"
      },
      "source": [
        "print(sports)"
      ],
      "execution_count": 30,
      "outputs": [
        {
          "output_type": "stream",
          "text": [
            "{'pl1': 'Lebron', 'pl2': 'Messi', 'pl3': 'Pele', 'pl4': 'Serena', 'pl': 'Jordan'}\n"
          ],
          "name": "stdout"
        }
      ]
    },
    {
      "cell_type": "code",
      "metadata": {
        "id": "hmVCZ-5tnEfr"
      },
      "source": [
        ""
      ],
      "execution_count": 30,
      "outputs": []
    },
    {
      "cell_type": "code",
      "metadata": {
        "id": "dJiSI7IYociE"
      },
      "source": [
        ""
      ],
      "execution_count": null,
      "outputs": []
    }
  ]
}