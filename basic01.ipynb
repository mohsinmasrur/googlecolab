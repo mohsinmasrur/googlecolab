{
  "nbformat": 4,
  "nbformat_minor": 0,
  "metadata": {
    "colab": {
      "name": "basic01.ipynb",
      "provenance": [],
      "authorship_tag": "ABX9TyM6UNUQOuuGUttSixH6lPcZ",
      "include_colab_link": true
    },
    "kernelspec": {
      "name": "python3",
      "display_name": "Python 3"
    }
  },
  "cells": [
    {
      "cell_type": "markdown",
      "metadata": {
        "id": "view-in-github",
        "colab_type": "text"
      },
      "source": [
        "<a href=\"https://colab.research.google.com/github/mohsinmasrur/googlecolab/blob/master/basic01.ipynb\" target=\"_parent\"><img src=\"https://colab.research.google.com/assets/colab-badge.svg\" alt=\"Open In Colab\"/></a>"
      ]
    },
    {
      "cell_type": "code",
      "metadata": {
        "id": "gpf71LnOJCS3"
      },
      "source": [
        "lname='M'\n",
        "LASTNAME=\"masrur\"\n",
        "Last_name=\"Ace\"\n",
        "LastN=\"Gengis\"\n",
        "Lastname='Steve'\n",
        "Lastn2='BOB'\n",
        "\n"
      ],
      "execution_count": 3,
      "outputs": []
    },
    {
      "cell_type": "code",
      "metadata": {
        "colab": {
          "base_uri": "https://localhost:8080/"
        },
        "id": "ftt4EJPbJG03",
        "outputId": "c7fcf87b-e00e-4229-ddea-a309900a68a4"
      },
      "source": [
        "print(LASTNAME)"
      ],
      "execution_count": 5,
      "outputs": [
        {
          "output_type": "stream",
          "text": [
            "masrur\n"
          ],
          "name": "stdout"
        }
      ]
    },
    {
      "cell_type": "code",
      "metadata": {
        "id": "D1Fbd2m8X3s7"
      },
      "source": [
        "import math"
      ],
      "execution_count": 6,
      "outputs": []
    },
    {
      "cell_type": "code",
      "metadata": {
        "colab": {
          "base_uri": "https://localhost:8080/"
        },
        "id": "K54bVgyfYgwK",
        "outputId": "5f9431c2-c7ea-4b0f-a515-b8e15a552d74"
      },
      "source": [
        "math.pi"
      ],
      "execution_count": 7,
      "outputs": [
        {
          "output_type": "execute_result",
          "data": {
            "text/plain": [
              "3.141592653589793"
            ]
          },
          "metadata": {
            "tags": []
          },
          "execution_count": 7
        }
      ]
    },
    {
      "cell_type": "code",
      "metadata": {
        "id": "Jq24ZsGCYjzQ"
      },
      "source": [
        "list0=[\"It\", \"can\", \"hold\", \"anything\"]\n",
        "list1=[\"See\", \"Examples\"]\n",
        "list2=[\"String\", \"number\"]\n",
        "list3=[\"Hello\", 1]\n",
        "list4=[True, 1.0]\n",
        "list5=[False, \"Boolean\"]\n",
        "list6=[1,2,3,4]\n",
        "list7=[1.2,1.4,False]\n",
        "list8=[2,4]\n",
        "list9=[True, False]"
      ],
      "execution_count": 10,
      "outputs": []
    },
    {
      "cell_type": "code",
      "metadata": {
        "id": "pTCFoDhGahgp"
      },
      "source": [
        ""
      ],
      "execution_count": null,
      "outputs": []
    }
  ]
}