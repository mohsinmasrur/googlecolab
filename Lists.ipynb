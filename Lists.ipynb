{
  "nbformat": 4,
  "nbformat_minor": 0,
  "metadata": {
    "colab": {
      "name": "Lists.ipynb",
      "provenance": [],
      "collapsed_sections": [],
      "authorship_tag": "ABX9TyNff5mS5m2QOlhxD/UftpSO",
      "include_colab_link": true
    },
    "kernelspec": {
      "name": "python3",
      "display_name": "Python 3"
    }
  },
  "cells": [
    {
      "cell_type": "markdown",
      "metadata": {
        "id": "view-in-github",
        "colab_type": "text"
      },
      "source": [
        "<a href=\"https://colab.research.google.com/github/mohsinmasrur/googlecolab/blob/master/Lists.ipynb\" target=\"_parent\"><img src=\"https://colab.research.google.com/assets/colab-badge.svg\" alt=\"Open In Colab\"/></a>"
      ]
    },
    {
      "cell_type": "code",
      "metadata": {
        "id": "Orz1_glbXrLM"
      },
      "source": [
        "names=['Mohsin', 'Masrur','Siddika', 'Begum']"
      ],
      "execution_count": 2,
      "outputs": []
    },
    {
      "cell_type": "code",
      "metadata": {
        "colab": {
          "base_uri": "https://localhost:8080/"
        },
        "id": "SfqKgN8mX5yd",
        "outputId": "17771b56-b0c9-4cd4-899c-183501f1e37b"
      },
      "source": [
        "names"
      ],
      "execution_count": 3,
      "outputs": [
        {
          "output_type": "execute_result",
          "data": {
            "text/plain": [
              "['Mohsin', 'Masrur', 'Siddika', 'Begum']"
            ]
          },
          "metadata": {
            "tags": []
          },
          "execution_count": 3
        }
      ]
    },
    {
      "cell_type": "code",
      "metadata": {
        "colab": {
          "base_uri": "https://localhost:8080/"
        },
        "id": "qP5QWbM2X6f3",
        "outputId": "12360b28-a6b2-4d3d-8992-fd40c0f783c2"
      },
      "source": [
        "print(names)"
      ],
      "execution_count": 4,
      "outputs": [
        {
          "output_type": "stream",
          "text": [
            "['Mohsin', 'Masrur', 'Siddika', 'Begum']\n"
          ],
          "name": "stdout"
        }
      ]
    },
    {
      "cell_type": "code",
      "metadata": {
        "colab": {
          "base_uri": "https://localhost:8080/",
          "height": 37
        },
        "id": "KrT27fBdX72o",
        "outputId": "eeddb264-8002-47e5-ff5c-a8dcbad961e2"
      },
      "source": [
        "names[1]"
      ],
      "execution_count": 5,
      "outputs": [
        {
          "output_type": "execute_result",
          "data": {
            "application/vnd.google.colaboratory.intrinsic+json": {
              "type": "string"
            },
            "text/plain": [
              "'Masrur'"
            ]
          },
          "metadata": {
            "tags": []
          },
          "execution_count": 5
        }
      ]
    },
    {
      "cell_type": "code",
      "metadata": {
        "colab": {
          "base_uri": "https://localhost:8080/",
          "height": 37
        },
        "id": "tta0y7ByY16P",
        "outputId": "2c2d4ba2-d250-4f24-b697-4501772bb411"
      },
      "source": [
        "names[0]"
      ],
      "execution_count": 6,
      "outputs": [
        {
          "output_type": "execute_result",
          "data": {
            "application/vnd.google.colaboratory.intrinsic+json": {
              "type": "string"
            },
            "text/plain": [
              "'Mohsin'"
            ]
          },
          "metadata": {
            "tags": []
          },
          "execution_count": 6
        }
      ]
    },
    {
      "cell_type": "code",
      "metadata": {
        "colab": {
          "base_uri": "https://localhost:8080/",
          "height": 37
        },
        "id": "yXFdXWaGY7j7",
        "outputId": "8e8bb0fd-5d82-4a4d-d93e-5040b8f1b673"
      },
      "source": [
        "names[-1]"
      ],
      "execution_count": 7,
      "outputs": [
        {
          "output_type": "execute_result",
          "data": {
            "application/vnd.google.colaboratory.intrinsic+json": {
              "type": "string"
            },
            "text/plain": [
              "'Begum'"
            ]
          },
          "metadata": {
            "tags": []
          },
          "execution_count": 7
        }
      ]
    },
    {
      "cell_type": "code",
      "metadata": {
        "colab": {
          "base_uri": "https://localhost:8080/"
        },
        "id": "AfurKP2JY84c",
        "outputId": "087ec22b-781f-4dd2-c58d-67aa644760f8"
      },
      "source": [
        "names[:1]"
      ],
      "execution_count": 8,
      "outputs": [
        {
          "output_type": "execute_result",
          "data": {
            "text/plain": [
              "['Mohsin']"
            ]
          },
          "metadata": {
            "tags": []
          },
          "execution_count": 8
        }
      ]
    },
    {
      "cell_type": "code",
      "metadata": {
        "colab": {
          "base_uri": "https://localhost:8080/"
        },
        "id": "2hGPpM2vY_Lb",
        "outputId": "e5ceee98-963f-4d36-92d1-4f7680c5e422"
      },
      "source": [
        "names[:]"
      ],
      "execution_count": 9,
      "outputs": [
        {
          "output_type": "execute_result",
          "data": {
            "text/plain": [
              "['Mohsin', 'Masrur', 'Siddika', 'Begum']"
            ]
          },
          "metadata": {
            "tags": []
          },
          "execution_count": 9
        }
      ]
    },
    {
      "cell_type": "code",
      "metadata": {
        "colab": {
          "base_uri": "https://localhost:8080/"
        },
        "id": "shZeisxMZC-U",
        "outputId": "6f5b4514-f475-4e47-bb49-cff638bd9308"
      },
      "source": [
        "names[1:]"
      ],
      "execution_count": 10,
      "outputs": [
        {
          "output_type": "execute_result",
          "data": {
            "text/plain": [
              "['Masrur', 'Siddika', 'Begum']"
            ]
          },
          "metadata": {
            "tags": []
          },
          "execution_count": 10
        }
      ]
    },
    {
      "cell_type": "code",
      "metadata": {
        "colab": {
          "base_uri": "https://localhost:8080/"
        },
        "id": "fnMwQ8r6ZE0i",
        "outputId": "406d320f-f231-43cc-ff44-a42476919110"
      },
      "source": [
        "  #We can print specific index and apply method to it same time\n",
        "  print('My last name in lower case is '+names[1].lower())"
      ],
      "execution_count": 11,
      "outputs": [
        {
          "output_type": "stream",
          "text": [
            "My last name in lower case is masrur\n"
          ],
          "name": "stdout"
        }
      ]
    },
    {
      "cell_type": "code",
      "metadata": {
        "colab": {
          "base_uri": "https://localhost:8080/"
        },
        "id": "AFoZ9ftDbRyw",
        "outputId": "7de3d586-e4d7-44c7-ac67-6444e1da2a2d"
      },
      "source": [
        "#We can index within an index!!!!\n",
        "print(names[1][0])   #This will print the first letter of second index"
      ],
      "execution_count": 12,
      "outputs": [
        {
          "output_type": "stream",
          "text": [
            "M\n"
          ],
          "name": "stdout"
        }
      ]
    },
    {
      "cell_type": "code",
      "metadata": {
        "colab": {
          "base_uri": "https://localhost:8080/"
        },
        "id": "HKB-ZDUPcNLb",
        "outputId": "4142130a-65d3-4d4d-9565-1021ee34b744"
      },
      "source": [
        "print(names[1].upper())\n",
        "print(names[1].capitalize())"
      ],
      "execution_count": 13,
      "outputs": [
        {
          "output_type": "stream",
          "text": [
            "MASRUR\n",
            "Masrur\n"
          ],
          "name": "stdout"
        }
      ]
    },
    {
      "cell_type": "code",
      "metadata": {
        "colab": {
          "base_uri": "https://localhost:8080/"
        },
        "id": "xkYeFD2pcxQS",
        "outputId": "609c501e-86b6-43d3-8fb0-0915df2f90e2"
      },
      "source": [
        "len(names) #This gives how many index there\n"
      ],
      "execution_count": 14,
      "outputs": [
        {
          "output_type": "execute_result",
          "data": {
            "text/plain": [
              "4"
            ]
          },
          "metadata": {
            "tags": []
          },
          "execution_count": 14
        }
      ]
    },
    {
      "cell_type": "code",
      "metadata": {
        "colab": {
          "base_uri": "https://localhost:8080/"
        },
        "id": "81nNkgQldQty",
        "outputId": "c04d0fd1-92d5-4da4-f9f7-cb337a19cabe"
      },
      "source": [
        "len(names[0])"
      ],
      "execution_count": 15,
      "outputs": [
        {
          "output_type": "execute_result",
          "data": {
            "text/plain": [
              "6"
            ]
          },
          "metadata": {
            "tags": []
          },
          "execution_count": 15
        }
      ]
    },
    {
      "cell_type": "code",
      "metadata": {
        "id": "tor35lFvddGM"
      },
      "source": [
        "names.append('Numan')"
      ],
      "execution_count": 16,
      "outputs": []
    },
    {
      "cell_type": "code",
      "metadata": {
        "colab": {
          "base_uri": "https://localhost:8080/"
        },
        "id": "HvdUHKDseBpH",
        "outputId": "d6e230ce-4bcb-42f1-cc02-52091673cc9a"
      },
      "source": [
        "names"
      ],
      "execution_count": 17,
      "outputs": [
        {
          "output_type": "execute_result",
          "data": {
            "text/plain": [
              "['Mohsin', 'Masrur', 'Siddika', 'Begum', 'Numan']"
            ]
          },
          "metadata": {
            "tags": []
          },
          "execution_count": 17
        }
      ]
    },
    {
      "cell_type": "code",
      "metadata": {
        "id": "WvjgBl6MkjXp"
      },
      "source": [
        "names.insert(0,'Hasan')"
      ],
      "execution_count": 18,
      "outputs": []
    },
    {
      "cell_type": "code",
      "metadata": {
        "colab": {
          "base_uri": "https://localhost:8080/"
        },
        "id": "DMR-lQGnkqhe",
        "outputId": "6a691024-a3b9-4f4f-c0fd-5f4c89313817"
      },
      "source": [
        "names"
      ],
      "execution_count": 19,
      "outputs": [
        {
          "output_type": "execute_result",
          "data": {
            "text/plain": [
              "['Hasan', 'Mohsin', 'Masrur', 'Siddika', 'Begum', 'Numan']"
            ]
          },
          "metadata": {
            "tags": []
          },
          "execution_count": 19
        }
      ]
    },
    {
      "cell_type": "code",
      "metadata": {
        "id": "zQPyu32vk3Y4"
      },
      "source": [
        "names1=names.append(\"Malik\")"
      ],
      "execution_count": 31,
      "outputs": []
    },
    {
      "cell_type": "code",
      "metadata": {
        "colab": {
          "base_uri": "https://localhost:8080/"
        },
        "id": "W0YyVAm5lc-E",
        "outputId": "9f47a847-ce9c-428d-f30c-0a64ea99bbb1"
      },
      "source": [
        "print(names1)"
      ],
      "execution_count": 32,
      "outputs": [
        {
          "output_type": "stream",
          "text": [
            "None\n"
          ],
          "name": "stdout"
        }
      ]
    },
    {
      "cell_type": "code",
      "metadata": {
        "id": "pD09EA6PleC1"
      },
      "source": [
        "names.sort()"
      ],
      "execution_count": 22,
      "outputs": []
    },
    {
      "cell_type": "code",
      "metadata": {
        "colab": {
          "base_uri": "https://localhost:8080/"
        },
        "id": "CMKzrIN1nsno",
        "outputId": "dd1f6b19-66de-4ddc-a8f5-389e2738a775"
      },
      "source": [
        "names"
      ],
      "execution_count": 23,
      "outputs": [
        {
          "output_type": "execute_result",
          "data": {
            "text/plain": [
              "['Begum', 'Hasan', 'Malik', 'Masrur', 'Mohsin', 'Numan', 'Siddika']"
            ]
          },
          "metadata": {
            "tags": []
          },
          "execution_count": 23
        }
      ]
    },
    {
      "cell_type": "code",
      "metadata": {
        "id": "OheLbdk2nuTp"
      },
      "source": [
        "names.sort(reverse=True)"
      ],
      "execution_count": 27,
      "outputs": []
    },
    {
      "cell_type": "code",
      "metadata": {
        "colab": {
          "base_uri": "https://localhost:8080/"
        },
        "id": "VCMMtBgxnyuZ",
        "outputId": "284e4157-f8eb-43bf-b0ad-18923dbbf946"
      },
      "source": [
        "names"
      ],
      "execution_count": 29,
      "outputs": [
        {
          "output_type": "execute_result",
          "data": {
            "text/plain": [
              "['Siddika', 'Numan', 'Mohsin', 'Masrur', 'Malik', 'Hasan', 'Begum']"
            ]
          },
          "metadata": {
            "tags": []
          },
          "execution_count": 29
        }
      ]
    },
    {
      "cell_type": "markdown",
      "metadata": {
        "id": "tkSvrGxyrKVC"
      },
      "source": [
        "Check out remove, delete and replace function in List"
      ]
    },
    {
      "cell_type": "code",
      "metadata": {
        "id": "SF306dP8n2gE",
        "colab": {
          "base_uri": "https://localhost:8080/",
          "height": 164
        },
        "outputId": "14dce920-311b-4086-d025-3348f232b151"
      },
      "source": [
        "print(name[0:2])"
      ],
      "execution_count": 30,
      "outputs": [
        {
          "output_type": "error",
          "ename": "NameError",
          "evalue": "ignored",
          "traceback": [
            "\u001b[0;31m---------------------------------------------------------------------------\u001b[0m",
            "\u001b[0;31mNameError\u001b[0m                                 Traceback (most recent call last)",
            "\u001b[0;32m<ipython-input-30-8176313da87a>\u001b[0m in \u001b[0;36m<module>\u001b[0;34m()\u001b[0m\n\u001b[0;32m----> 1\u001b[0;31m \u001b[0mprint\u001b[0m\u001b[0;34m(\u001b[0m\u001b[0mname\u001b[0m\u001b[0;34m[\u001b[0m\u001b[0;36m0\u001b[0m\u001b[0;34m:\u001b[0m\u001b[0;36m2\u001b[0m\u001b[0;34m]\u001b[0m\u001b[0;34m)\u001b[0m\u001b[0;34m\u001b[0m\u001b[0;34m\u001b[0m\u001b[0m\n\u001b[0m",
            "\u001b[0;31mNameError\u001b[0m: name 'name' is not defined"
          ]
        }
      ]
    },
    {
      "cell_type": "code",
      "metadata": {
        "id": "B7H_oJULn9iE",
        "colab": {
          "base_uri": "https://localhost:8080/"
        },
        "outputId": "d7d5352b-3afa-4fe0-b815-05677b54abdc"
      },
      "source": [
        "family=['Mohsin','Masrur','Numan','Hasan','Imdad','Mahbub','Saju','Adam','Moon','Aysha','Malik']\n",
        "print(family[0])\n",
        "print(family[0:])\n",
        "print(family[:0])\n",
        "print(family[0:3])\n",
        "print(family[2:3])\n",
        "print(family[:])"
      ],
      "execution_count": 37,
      "outputs": [
        {
          "output_type": "stream",
          "text": [
            "Mohsin\n",
            "['Mohsin', 'Masrur', 'Numan', 'Hasan', 'Imdad', 'Mahbub', 'Saju', 'Adam', 'Moon', 'Aysha', 'Malik']\n",
            "[]\n",
            "['Mohsin', 'Masrur', 'Numan']\n",
            "['Numan']\n",
            "['Mohsin', 'Masrur', 'Numan', 'Hasan', 'Imdad', 'Mahbub', 'Saju', 'Adam', 'Moon', 'Aysha', 'Malik']\n"
          ],
          "name": "stdout"
        }
      ]
    },
    {
      "cell_type": "code",
      "metadata": {
        "colab": {
          "base_uri": "https://localhost:8080/"
        },
        "id": "Jqr1uO3bwl23",
        "outputId": "9ba8da8a-7834-44cc-f60a-69552d688bcc"
      },
      "source": [
        "print(family[0:])\n"
      ],
      "execution_count": 38,
      "outputs": [
        {
          "output_type": "stream",
          "text": [
            "['Mohsin', 'Masrur', 'Numan', 'Hasan', 'Imdad', 'Mahbub', 'Saju', 'Adam', 'Moon', 'Aysha', 'Malik']\n"
          ],
          "name": "stdout"
        }
      ]
    },
    {
      "cell_type": "code",
      "metadata": {
        "colab": {
          "base_uri": "https://localhost:8080/"
        },
        "id": "-1EyGhN4w6JM",
        "outputId": "50176b98-d76a-40e7-9a90-b9f03e560dd1"
      },
      "source": [
        "print(family[:0])\n"
      ],
      "execution_count": 39,
      "outputs": [
        {
          "output_type": "stream",
          "text": [
            "[]\n"
          ],
          "name": "stdout"
        }
      ]
    },
    {
      "cell_type": "code",
      "metadata": {
        "colab": {
          "base_uri": "https://localhost:8080/"
        },
        "id": "Hpgm1CIhw7hc",
        "outputId": "a732a8d7-afeb-4e1f-fd09-34355a934593"
      },
      "source": [
        "print(family[2:3])\n"
      ],
      "execution_count": 40,
      "outputs": [
        {
          "output_type": "stream",
          "text": [
            "['Numan']\n"
          ],
          "name": "stdout"
        }
      ]
    },
    {
      "cell_type": "code",
      "metadata": {
        "colab": {
          "base_uri": "https://localhost:8080/"
        },
        "id": "5Saexchow90O",
        "outputId": "2f32f220-2adc-4e88-c70f-dec756e05dde"
      },
      "source": [
        "print(family[0:3])\n"
      ],
      "execution_count": 41,
      "outputs": [
        {
          "output_type": "stream",
          "text": [
            "['Mohsin', 'Masrur', 'Numan']\n"
          ],
          "name": "stdout"
        }
      ]
    },
    {
      "cell_type": "code",
      "metadata": {
        "colab": {
          "base_uri": "https://localhost:8080/"
        },
        "id": "kz1vMESmw_i6",
        "outputId": "96bc9368-0e55-437e-8881-55432caaed75"
      },
      "source": [
        "print(family[:3])\n"
      ],
      "execution_count": 42,
      "outputs": [
        {
          "output_type": "stream",
          "text": [
            "['Mohsin', 'Masrur', 'Numan']\n"
          ],
          "name": "stdout"
        }
      ]
    },
    {
      "cell_type": "code",
      "metadata": {
        "colab": {
          "base_uri": "https://localhost:8080/"
        },
        "id": "lHdcPJT4xBCa",
        "outputId": "22f2c7d3-3826-44aa-cfda-158dbd90f8ef"
      },
      "source": [
        "print(family[3:])"
      ],
      "execution_count": 44,
      "outputs": [
        {
          "output_type": "stream",
          "text": [
            "['Hasan', 'Imdad', 'Mahbub', 'Saju', 'Adam', 'Moon', 'Aysha', 'Malik']\n"
          ],
          "name": "stdout"
        }
      ]
    },
    {
      "cell_type": "code",
      "metadata": {
        "colab": {
          "base_uri": "https://localhost:8080/"
        },
        "id": "xqwWg2SqxCPq",
        "outputId": "2ff46b72-3a6f-46dd-aa1a-4a6ee5cc9d4b"
      },
      "source": [
        "for x in range(1,10):\n",
        "  print(family)"
      ],
      "execution_count": 54,
      "outputs": [
        {
          "output_type": "stream",
          "text": [
            "['Mohsin', 'Masrur', 'Numan', 'Hasan', 'Imdad', 'Mahbub', 'Saju', 'Adam', 'Moon', 'Aysha', 'Malik']\n",
            "['Mohsin', 'Masrur', 'Numan', 'Hasan', 'Imdad', 'Mahbub', 'Saju', 'Adam', 'Moon', 'Aysha', 'Malik']\n",
            "['Mohsin', 'Masrur', 'Numan', 'Hasan', 'Imdad', 'Mahbub', 'Saju', 'Adam', 'Moon', 'Aysha', 'Malik']\n",
            "['Mohsin', 'Masrur', 'Numan', 'Hasan', 'Imdad', 'Mahbub', 'Saju', 'Adam', 'Moon', 'Aysha', 'Malik']\n",
            "['Mohsin', 'Masrur', 'Numan', 'Hasan', 'Imdad', 'Mahbub', 'Saju', 'Adam', 'Moon', 'Aysha', 'Malik']\n",
            "['Mohsin', 'Masrur', 'Numan', 'Hasan', 'Imdad', 'Mahbub', 'Saju', 'Adam', 'Moon', 'Aysha', 'Malik']\n",
            "['Mohsin', 'Masrur', 'Numan', 'Hasan', 'Imdad', 'Mahbub', 'Saju', 'Adam', 'Moon', 'Aysha', 'Malik']\n",
            "['Mohsin', 'Masrur', 'Numan', 'Hasan', 'Imdad', 'Mahbub', 'Saju', 'Adam', 'Moon', 'Aysha', 'Malik']\n",
            "['Mohsin', 'Masrur', 'Numan', 'Hasan', 'Imdad', 'Mahbub', 'Saju', 'Adam', 'Moon', 'Aysha', 'Malik']\n"
          ],
          "name": "stdout"
        }
      ]
    },
    {
      "cell_type": "code",
      "metadata": {
        "id": "_X0S3EruxUg4"
      },
      "source": [
        ""
      ],
      "execution_count": 54,
      "outputs": []
    },
    {
      "cell_type": "code",
      "metadata": {
        "id": "6_LlvrClx4Fk"
      },
      "source": [
        ""
      ],
      "execution_count": null,
      "outputs": []
    }
  ]
}