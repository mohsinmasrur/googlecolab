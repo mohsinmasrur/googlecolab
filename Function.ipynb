{
  "nbformat": 4,
  "nbformat_minor": 0,
  "metadata": {
    "colab": {
      "name": "Function.ipynb",
      "provenance": [],
      "authorship_tag": "ABX9TyNVDkNwieEc2TEzQEVoo5ZG",
      "include_colab_link": true
    },
    "kernelspec": {
      "name": "python3",
      "display_name": "Python 3"
    }
  },
  "cells": [
    {
      "cell_type": "markdown",
      "metadata": {
        "id": "view-in-github",
        "colab_type": "text"
      },
      "source": [
        "<a href=\"https://colab.research.google.com/github/mohsinmasrur/googlecolab/blob/master/Function.ipynb\" target=\"_parent\"><img src=\"https://colab.research.google.com/assets/colab-badge.svg\" alt=\"Open In Colab\"/></a>"
      ]
    },
    {
      "cell_type": "code",
      "metadata": {
        "colab": {
          "base_uri": "https://localhost:8080/"
        },
        "id": "kahWVSM5LN7o",
        "outputId": "548c84a1-ef3c-42d7-c8e2-7964acffeca6"
      },
      "source": [
        "def greetings():\n",
        "  '''This function displays greeting'''\n",
        "  print(\"Hi there\")\n",
        "greetings()"
      ],
      "execution_count": 1,
      "outputs": [
        {
          "output_type": "stream",
          "text": [
            "Hi there\n"
          ],
          "name": "stdout"
        }
      ]
    },
    {
      "cell_type": "code",
      "metadata": {
        "colab": {
          "base_uri": "https://localhost:8080/"
        },
        "id": "xqMi7k9KMygJ",
        "outputId": "3f1d1850-6635-4709-ccef-dac28e553c6b"
      },
      "source": [
        "def greetings(name):\n",
        "  '''This function displays greeting'''\n",
        "  print(\"Hi there \"+name)\n",
        "greetings('mohsin')"
      ],
      "execution_count": 13,
      "outputs": [
        {
          "output_type": "stream",
          "text": [
            "Hi there mohsin\n"
          ],
          "name": "stdout"
        }
      ]
    },
    {
      "cell_type": "code",
      "metadata": {
        "colab": {
          "base_uri": "https://localhost:8080/"
        },
        "id": "v0KjwmtAN1jV",
        "outputId": "f9ce2b61-e126-464d-93e6-850787452ee4"
      },
      "source": [
        "def greetings(name):\n",
        "  '''This function displays greeting'''\n",
        "  print(\"Hi there \"+name.title())\n",
        "greetings('mohsin')"
      ],
      "execution_count": 14,
      "outputs": [
        {
          "output_type": "stream",
          "text": [
            "Hi there Mohsin\n"
          ],
          "name": "stdout"
        }
      ]
    },
    {
      "cell_type": "code",
      "metadata": {
        "colab": {
          "base_uri": "https://localhost:8080/"
        },
        "id": "mL3R9sx1OF9S",
        "outputId": "bc3d6262-513a-41e2-b463-c2a7d563e85c"
      },
      "source": [
        "def greetings2(fname,lname):\n",
        "  print(\"Hi there \" + fname.title() + \" \" + lname.upper())\n",
        "  \n",
        "greetings2('mohsin','masrur')"
      ],
      "execution_count": 24,
      "outputs": [
        {
          "output_type": "stream",
          "text": [
            "Hi there Mohsin MASRUR\n"
          ],
          "name": "stdout"
        }
      ]
    },
    {
      "cell_type": "code",
      "metadata": {
        "id": "H6I3WT8EOKC2"
      },
      "source": [
        "#Order matters when you cann function\n",
        "#Python stores argument in parameters in the order you have defined them\n"
      ],
      "execution_count": 25,
      "outputs": []
    },
    {
      "cell_type": "code",
      "metadata": {
        "colab": {
          "base_uri": "https://localhost:8080/"
        },
        "id": "kXPhKVAeQNWk",
        "outputId": "cf7829f0-5f93-494d-e054-0a7706bcd561"
      },
      "source": [
        "#Create a function that adds two numbers\n",
        "def add(n1,n2):\n",
        "  r=n1+n2\n",
        "  print(r)\n",
        "\n",
        "add(2,3)"
      ],
      "execution_count": 26,
      "outputs": [
        {
          "output_type": "stream",
          "text": [
            "5\n"
          ],
          "name": "stdout"
        }
      ]
    },
    {
      "cell_type": "code",
      "metadata": {
        "colab": {
          "base_uri": "https://localhost:8080/",
          "height": 130
        },
        "id": "imlt1HbwVAmD",
        "outputId": "48c7f6b1-3d5b-4a45-e93a-93f1fe2c806a"
      },
      "source": [
        "\n",
        "def calc():\n",
        "  n1=int(input(\"Enter a number \"))\n",
        "  n2=int(input(\"Enter sencond number \")\n",
        "  operator=input(\"enter +, -, * or /  \")\n",
        "\n",
        "  \n",
        "  if operator == \"+\":\n",
        "    print(n1+n2)\n",
        "  elif operator == \"-\":\n",
        "    print(n1-n2)\n",
        "  elif operator == \"*\":\n",
        "    print(n1*n2)\n",
        "  elif operator == \"/\":\n",
        "    print(n1/n2)\n",
        "\n",
        "\n",
        "calc()\n"
      ],
      "execution_count": 41,
      "outputs": [
        {
          "output_type": "error",
          "ename": "SyntaxError",
          "evalue": "ignored",
          "traceback": [
            "\u001b[0;36m  File \u001b[0;32m\"<ipython-input-41-e004f0a2caad>\"\u001b[0;36m, line \u001b[0;32m5\u001b[0m\n\u001b[0;31m    operator=input(\"enter +, -, * or /  \")\u001b[0m\n\u001b[0m           ^\u001b[0m\n\u001b[0;31mSyntaxError\u001b[0m\u001b[0;31m:\u001b[0m invalid syntax\n"
          ]
        }
      ]
    },
    {
      "cell_type": "code",
      "metadata": {
        "colab": {
          "base_uri": "https://localhost:8080/"
        },
        "id": "Cja5kGzsXAu4",
        "outputId": "8ab5e745-78c0-4e05-ca80-30b3db842f8a"
      },
      "source": [
        "def calc():\n",
        "  # this function is a simple calculator that adds, subtracts, multiply, and divides two input numbers\n",
        "  num1 = int(input(\"Enter the first number: \"))\n",
        "  num2 = int(input(\"Enter the second number: \"))\n",
        "  operator = input(\"+, -, *, or /: \")\n",
        "  if operator == \"+\":\n",
        "    print(num1 + num2)\n",
        "  elif operator == \"-\":\n",
        "    print(num1 - num2)\n",
        "  elif operator == \"*\":\n",
        "    print(num1 * num2)\n",
        "  elif operator == \"/\":\n",
        "    print(num1 / num2)\n",
        "\n",
        "  \n",
        "\n",
        "\n",
        "calc()"
      ],
      "execution_count": 42,
      "outputs": [
        {
          "output_type": "stream",
          "text": [
            "Enter the first number: 1\n",
            "Enter the second number: 2\n",
            "+, -, *, or /: +\n",
            "3\n"
          ],
          "name": "stdout"
        }
      ]
    },
    {
      "cell_type": "code",
      "metadata": {
        "colab": {
          "base_uri": "https://localhost:8080/"
        },
        "id": "5BYeCpYQahJ9",
        "outputId": "15b67c8d-3996-4ff8-e329-fd16bfba5527"
      },
      "source": [
        "\n",
        "def calc():\n",
        "  n1=int(input(\"Enter a number \"))\n",
        "  operator=input(\"enter +, -, * or /  \")\n",
        "  n2=int(input(\"Enter sencond number \"))\n",
        "\n",
        "  if operator == \"+\":\n",
        "    print(n1+n2)\n",
        "  elif operator == \"-\":\n",
        "    print(n1-n2)\n",
        "  elif operator == \"*\":\n",
        "    print(n1*n2)\n",
        "  elif operator == \"/\":\n",
        "    print(n1/n2)\n",
        "\n",
        "\n",
        "calc()\n"
      ],
      "execution_count": 54,
      "outputs": [
        {
          "output_type": "stream",
          "text": [
            "Enter a number 2\n",
            "enter +, -, * or /  2\n",
            "Enter sencond number 2\n"
          ],
          "name": "stdout"
        }
      ]
    },
    {
      "cell_type": "code",
      "metadata": {
        "id": "pGSCMozzbGHW"
      },
      "source": [
        ""
      ],
      "execution_count": null,
      "outputs": []
    }
  ]
}